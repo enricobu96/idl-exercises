{
 "cells": [
  {
   "cell_type": "code",
   "execution_count": 33,
   "metadata": {},
   "outputs": [],
   "source": [
    "from __future__ import annotations\n",
    "import os\n",
    "import pandas as pd\n",
    "from torchvision.io import read_image\n",
    "import torch\n",
    "from torch.utils.data import Dataset\n",
    "import warnings\n",
    "warnings.filterwarnings('ignore')\n",
    "import re\n",
    "\n",
    "\n",
    "class ImageDataset(Dataset):\n",
    "    def __get_labels(self, image_name):\n",
    "        labels = []\n",
    "        image_name = re.findall(r'\\d+', image_name)[0]\n",
    "        for label_name in os.listdir(self.label_dir):\n",
    "            with open(os.path.join(self.label_dir, label_name), 'r') as f:\n",
    "                if image_name in f.read():\n",
    "                    label_name, _ = os.path.splitext(label_name)\n",
    "                    labels.append(label_name)\n",
    "        return list(set(labels))\n",
    "\n",
    "    def __init__(self, label_dir, img_dir, transform=None, target_transform=None):\n",
    "        self.label_dir = label_dir\n",
    "        self.img_dir = img_dir\n",
    "        self.n_classes = len([name for name in os.listdir(label_dir) if os.path.isfile(os.path.join(label_dir,name))])\n",
    "        image_names = []\n",
    "        label_names = []\n",
    "        for img_name in os.listdir(self.img_dir):\n",
    "            image_names.append(img_name)\n",
    "            label_names.append(self.__get_labels(img_name))\n",
    "        self.df = pd.DataFrame(columns=['image', 'labels'])\n",
    "        self.df['image'] = image_names\n",
    "        self.df['labels'] = label_names\n",
    "        del image_names\n",
    "        del label_names\n",
    "        self.transform = transform\n",
    "        self.target_transform = target_transform\n",
    "\n",
    "    def __len__(self):\n",
    "        return len(self.img_labels)\n",
    "\n",
    "    def __getitem__(self, index):\n",
    "       img_name,label = self.df[index]\n",
    "       img_path = os.path.join(self.data_dir, img_name+self.img_ext)\n",
    "       image = read_image(img_path)\n",
    "       target = torch.zeros(self.n_classes)\n",
    "       target[label] = 1.\n",
    "       if self.transform is not None:\n",
    "           image = self.transform(image)\n",
    "       return image, target\n",
    "\n",
    "\n",
    "obj = ImageDataset(label_dir='../data/annotations', img_dir='../data/images')\n"
   ]
  }
 ],
 "metadata": {
  "interpreter": {
   "hash": "5b3ded1ccb95c1d9bd405e7b823d9e85424cde40fbb5985eb47e999ef50e15b4"
  },
  "kernelspec": {
   "display_name": "Python 3.8.12 64-bit",
   "language": "python",
   "name": "python3"
  },
  "language_info": {
   "codemirror_mode": {
    "name": "ipython",
    "version": 3
   },
   "file_extension": ".py",
   "mimetype": "text/x-python",
   "name": "python",
   "nbconvert_exporter": "python",
   "pygments_lexer": "ipython3",
   "version": "3.8.12"
  },
  "orig_nbformat": 4
 },
 "nbformat": 4,
 "nbformat_minor": 2
}
